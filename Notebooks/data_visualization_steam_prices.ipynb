{
 "cells": [
  {
   "cell_type": "code",
   "execution_count": 1,
   "metadata": {},
   "outputs": [],
   "source": [
    "import pandas as pd\n",
    "import numpy as np\n",
    "import matplotlib.pyplot as plt"
   ]
  },
  {
   "attachments": {},
   "cell_type": "markdown",
   "metadata": {},
   "source": [
    "# Installing Libraries"
   ]
  },
  {
   "cell_type": "code",
   "execution_count": 108,
   "metadata": {},
   "outputs": [
    {
     "name": "stdout",
     "output_type": "stream",
     "text": [
      "Defaulting to user installation because normal site-packages is not writeable\n",
      "Collecting pycountry-convert\n",
      "  Downloading pycountry_convert-0.7.2-py3-none-any.whl (13 kB)\n",
      "Requirement already satisfied: pycountry>=16.11.27.1 in c:\\users\\edsel di meo\\appdata\\roaming\\python\\python39\\site-packages (from pycountry-convert) (22.3.5)\n",
      "Requirement already satisfied: pytest>=3.4.0 in c:\\programdata\\anaconda3\\lib\\site-packages (from pycountry-convert) (7.1.2)\n",
      "Collecting repoze.lru>=0.7\n",
      "  Downloading repoze.lru-0.7-py3-none-any.whl (10 kB)\n",
      "Requirement already satisfied: wheel>=0.30.0 in c:\\programdata\\anaconda3\\lib\\site-packages (from pycountry-convert) (0.37.1)\n",
      "Collecting pprintpp>=0.3.0\n",
      "  Downloading pprintpp-0.4.0-py2.py3-none-any.whl (16 kB)\n",
      "Collecting pytest-cov>=2.5.1\n",
      "  Downloading pytest_cov-4.0.0-py3-none-any.whl (21 kB)\n",
      "Collecting pytest-mock>=1.6.3\n",
      "  Downloading pytest_mock-3.10.0-py3-none-any.whl (9.3 kB)\n",
      "Requirement already satisfied: setuptools in c:\\programdata\\anaconda3\\lib\\site-packages (from pycountry>=16.11.27.1->pycountry-convert) (63.4.1)\n",
      "Requirement already satisfied: attrs>=19.2.0 in c:\\programdata\\anaconda3\\lib\\site-packages (from pytest>=3.4.0->pycountry-convert) (21.4.0)\n",
      "Requirement already satisfied: iniconfig in c:\\programdata\\anaconda3\\lib\\site-packages (from pytest>=3.4.0->pycountry-convert) (1.1.1)\n",
      "Requirement already satisfied: packaging in c:\\programdata\\anaconda3\\lib\\site-packages (from pytest>=3.4.0->pycountry-convert) (21.3)\n",
      "Requirement already satisfied: pluggy<2.0,>=0.12 in c:\\programdata\\anaconda3\\lib\\site-packages (from pytest>=3.4.0->pycountry-convert) (1.0.0)\n",
      "Requirement already satisfied: py>=1.8.2 in c:\\programdata\\anaconda3\\lib\\site-packages (from pytest>=3.4.0->pycountry-convert) (1.11.0)\n",
      "Requirement already satisfied: tomli>=1.0.0 in c:\\programdata\\anaconda3\\lib\\site-packages (from pytest>=3.4.0->pycountry-convert) (2.0.1)\n",
      "Requirement already satisfied: atomicwrites>=1.0 in c:\\programdata\\anaconda3\\lib\\site-packages (from pytest>=3.4.0->pycountry-convert) (1.4.0)\n",
      "Requirement already satisfied: colorama in c:\\programdata\\anaconda3\\lib\\site-packages (from pytest>=3.4.0->pycountry-convert) (0.4.5)\n",
      "Collecting coverage[toml]>=5.2.1\n",
      "  Downloading coverage-7.2.3-cp39-cp39-win_amd64.whl (203 kB)\n",
      "     -------------------------------------- 203.4/203.4 kB 2.5 MB/s eta 0:00:00\n",
      "Requirement already satisfied: pyparsing!=3.0.5,>=2.0.2 in c:\\programdata\\anaconda3\\lib\\site-packages (from packaging->pytest>=3.4.0->pycountry-convert) (3.0.9)\n",
      "Installing collected packages: repoze.lru, pprintpp, coverage, pytest-mock, pytest-cov, pycountry-convert\n",
      "Successfully installed coverage-7.2.3 pprintpp-0.4.0 pycountry-convert-0.7.2 pytest-cov-4.0.0 pytest-mock-3.10.0 repoze.lru-0.7\n"
     ]
    },
    {
     "name": "stderr",
     "output_type": "stream",
     "text": [
      "  WARNING: The script pypprint.exe is installed in 'C:\\Users\\Edsel Di Meo\\AppData\\Roaming\\Python\\Python39\\Scripts' which is not on PATH.\n",
      "  Consider adding this directory to PATH or, if you prefer to suppress this warning, use --no-warn-script-location.\n",
      "  WARNING: The scripts coverage-3.9.exe, coverage.exe and coverage3.exe are installed in 'C:\\Users\\Edsel Di Meo\\AppData\\Roaming\\Python\\Python39\\Scripts' which is not on PATH.\n",
      "  Consider adding this directory to PATH or, if you prefer to suppress this warning, use --no-warn-script-location.\n"
     ]
    }
   ],
   "source": [
    "!pip install pycountry-convert"
   ]
  },
  {
   "cell_type": "code",
   "execution_count": 2,
   "metadata": {},
   "outputs": [],
   "source": [
    "df_games_prices = pd.read_excel(\"../Data/list_1_processed.xlsx\", index_col=\"Unnamed: 0\")\n",
    "df_games_prices += 1"
   ]
  },
  {
   "attachments": {},
   "cell_type": "markdown",
   "metadata": {},
   "source": [
    "Average difference between most expensive top 10 and cheapest top 10"
   ]
  },
  {
   "cell_type": "code",
   "execution_count": 3,
   "metadata": {},
   "outputs": [
    {
     "data": {
      "text/plain": [
       "('-0.48250381860589675%', '-14.833527134248946 USD')"
      ]
     },
     "execution_count": 3,
     "metadata": {},
     "output_type": "execute_result"
    }
   ],
   "source": [
    "lowest_prices_avg = df_games_prices.describe().loc[\"mean\"].sort_values(ascending=False).tail(10).mean()\n",
    "higest_prices_avg = df_games_prices.describe().loc[\"mean\"].sort_values(ascending=True).tail(10).mean()\n",
    "cheap_price_perc_dif = (lowest_prices_avg/higest_prices_avg) - 1\n",
    "f\"{cheap_price_perc_dif}%\", f\"{cheap_price_perc_dif*higest_prices_avg} USD\""
   ]
  },
  {
   "attachments": {},
   "cell_type": "markdown",
   "metadata": {},
   "source": [
    "Average difference between US steam games' prices and the worlds' average"
   ]
  },
  {
   "cell_type": "code",
   "execution_count": 5,
   "metadata": {},
   "outputs": [
    {
     "data": {
      "text/plain": [
       "('0.29%', '6.71 USD')"
      ]
     },
     "execution_count": 5,
     "metadata": {},
     "output_type": "execute_result"
    }
   ],
   "source": [
    "us_games_price_avg = df_games_prices.describe().loc[\"mean\"][\"us\"]\n",
    "world_prices_avg = df_games_prices.describe().loc[\"mean\"].mean()\n",
    "\n",
    "us_price_perc_dif = (us_games_price_avg/world_prices_avg) - 1\n",
    "f\"{us_price_perc_dif:0.2f}%\", f\"{us_price_perc_dif*world_prices_avg:0.2f} USD\""
   ]
  },
  {
   "attachments": {},
   "cell_type": "markdown",
   "metadata": {},
   "source": [
    "Average difference between Argentina steam games' prices and the worlds' average"
   ]
  },
  {
   "cell_type": "code",
   "execution_count": 6,
   "metadata": {},
   "outputs": [
    {
     "data": {
      "text/plain": [
       "('-0.51%', '-11.85 USD')"
      ]
     },
     "execution_count": 6,
     "metadata": {},
     "output_type": "execute_result"
    }
   ],
   "source": [
    "arg_games_price_avg = df_games_prices.describe().loc[\"mean\"][\"ar\"]\n",
    "world_prices_avg = df_games_prices.describe().loc[\"mean\"].mean()\n",
    "\n",
    "us_price_perc_dif = (arg_games_price_avg/world_prices_avg) - 1\n",
    "f\"{us_price_perc_dif:0.2f}%\", f\"{us_price_perc_dif*world_prices_avg:0.2f} USD\""
   ]
  },
  {
   "attachments": {},
   "cell_type": "markdown",
   "metadata": {},
   "source": [
    "Average difference between each country's price and worlds' average"
   ]
  },
  {
   "cell_type": "code",
   "execution_count": 9,
   "metadata": {},
   "outputs": [
    {
     "data": {
      "text/plain": [
       "<AxesSubplot:>"
      ]
     },
     "execution_count": 9,
     "metadata": {},
     "output_type": "execute_result"
    },
    {
     "data": {
      "image/png": "[encoded data removed]",
      "text/plain": [
       "<Figure size 640x480 with 1 Axes>"
      ]
     },
     "metadata": {},
     "output_type": "display_data"
    }
   ],
   "source": [
    "world_prices_avg = df_games_prices.describe().loc[\"mean\"].mean()\n",
    "world_prices_avg_perc_dif = (df_games_prices.describe().loc[\"mean\"]/world_prices_avg) - 1\n",
    "world_prices_avg_perc_dif.name = \"perc_dif\"\n",
    "world_prices_avg_usd_dif = world_prices_avg_perc_dif * world_prices_avg\n",
    "world_prices_avg_usd_dif.name = \"usd_dif\"\n",
    "\n",
    "world_prices_df = pd.DataFrame([world_prices_avg_perc_dif, world_prices_avg_usd_dif]).T\n",
    "world_prices_df.sort_values(by=\"usd_dif\").plot(kind=\"barh\")"
   ]
  },
  {
   "cell_type": "code",
   "execution_count": 8,
   "metadata": {},
   "outputs": [
    {
     "data": {
      "text/plain": [
       "[None,\n",
       " None,\n",
       " None,\n",
       " None,\n",
       " None,\n",
       " None,\n",
       " None,\n",
       " None,\n",
       " None,\n",
       " None,\n",
       " None,\n",
       " None,\n",
       " None,\n",
       " None,\n",
       " None,\n",
       " None,\n",
       " None,\n",
       " None,\n",
       " None,\n",
       " None,\n",
       " None,\n",
       " None,\n",
       " None,\n",
       " None,\n",
       " None,\n",
       " None,\n",
       " None,\n",
       " None,\n",
       " None,\n",
       " None,\n",
       " None,\n",
       " None,\n",
       " None,\n",
       " None,\n",
       " None,\n",
       " None,\n",
       " None,\n",
       " None,\n",
       " None,\n",
       " None]"
      ]
     },
     "execution_count": 8,
     "metadata": {},
     "output_type": "execute_result"
    }
   ],
   "source": [
    "import pycountry\n",
    "\n",
    "def map_currency_to_iso(currency):\n",
    "    for country in pycountry.countries:\n",
    "        if hasattr(country, 'currency') and country.currency == currency:\n",
    "            return country.alpha_2\n",
    "    return None\n",
    "\n",
    "[map_currency_to_iso(currency) for currency in world_prices_df.index.tolist()]"
   ]
  }
 ],
 "metadata": {
  "kernelspec": {
   "display_name": "base",
   "language": "python",
   "name": "python3"
  },
  "language_info": {
   "codemirror_mode": {
    "name": "ipython",
    "version": 3
   },
   "file_extension": ".py",
   "mimetype": "text/x-python",
   "name": "python",
   "nbconvert_exporter": "python",
   "pygments_lexer": "ipython3",
   "version": "3.9.13"
  },
  "orig_nbformat": 4
 },
 "nbformat": 4,
 "nbformat_minor": 2
}
