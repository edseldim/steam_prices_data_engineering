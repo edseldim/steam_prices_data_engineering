{
 "cells": [
  {
   "cell_type": "code",
   "execution_count": 2,
   "metadata": {},
   "outputs": [],
   "source": [
    "import pandas as pd\n",
    "import numpy as np\n",
    "import matplotlib.pyplot as plt\n",
    "import bs4\n",
    "import re\n",
    "import time\n",
    "import logging\n",
    "import json\n",
    "import requests\n",
    "import concurrent.futures\n",
    "\n",
    "from undetected_chromedriver import Chrome, ChromeOptions\n",
    "from selenium.common.exceptions import NoSuchElementException\n",
    "from selenium.webdriver.common.by import By"
   ]
  },
  {
   "attachments": {},
   "cell_type": "markdown",
   "metadata": {},
   "source": [
    "# Preconfig"
   ]
  },
  {
   "cell_type": "code",
   "execution_count": 3,
   "metadata": {},
   "outputs": [],
   "source": [
    "logger = logging.getLogger(\"etl_logger\")\n",
    "handler1 = logging.FileHandler('Logs/logger1.log')\n",
    "formatter1 = logging.Formatter('%(asctime)s - %(name)s - %(levelname)s - %(message)s')\n",
    "handler1.setFormatter(formatter1)\n",
    "logger.addHandler(handler1)\n",
    "if logger.hasHandlers():\n",
    "    logger.handlers.clear()\n",
    "    logger.addHandler(handler1)\n",
    "logger.setLevel(logging.DEBUG)"
   ]
  },
  {
   "attachments": {},
   "cell_type": "markdown",
   "metadata": {},
   "source": [
    "# Installing Packages"
   ]
  },
  {
   "cell_type": "code",
   "execution_count": 39,
   "metadata": {},
   "outputs": [
    {
     "name": "stdout",
     "output_type": "stream",
     "text": [
      "Defaulting to user installation because normal site-packages is not writeable\n",
      "Requirement already satisfied: selenium in c:\\users\\edsel di meo\\appdata\\roaming\\python\\python39\\site-packages (4.8.3)\n",
      "Requirement already satisfied: undetected-chromedriver in c:\\users\\edsel di meo\\appdata\\roaming\\python\\python39\\site-packages (3.4.6)\n",
      "Requirement already satisfied: Babel in c:\\programdata\\anaconda3\\lib\\site-packages (2.9.1)\n",
      "Requirement already satisfied: trio-websocket~=0.9 in c:\\users\\edsel di meo\\appdata\\roaming\\python\\python39\\site-packages (from selenium) (0.10.2)\n",
      "Requirement already satisfied: certifi>=2021.10.8 in c:\\programdata\\anaconda3\\lib\\site-packages (from selenium) (2022.9.14)\n",
      "Requirement already satisfied: trio~=0.17 in c:\\users\\edsel di meo\\appdata\\roaming\\python\\python39\\site-packages (from selenium) (0.22.0)\n",
      "Requirement already satisfied: urllib3[socks]~=1.26 in c:\\programdata\\anaconda3\\lib\\site-packages (from selenium) (1.26.11)\n",
      "Requirement already satisfied: requests in c:\\programdata\\anaconda3\\lib\\site-packages (from undetected-chromedriver) (2.28.1)\n",
      "Requirement already satisfied: websockets in c:\\users\\edsel di meo\\appdata\\roaming\\python\\python39\\site-packages (from undetected-chromedriver) (11.0.1)\n",
      "Requirement already satisfied: pytz>=2015.7 in c:\\programdata\\anaconda3\\lib\\site-packages (from Babel) (2022.1)\n",
      "Requirement already satisfied: sniffio in c:\\programdata\\anaconda3\\lib\\site-packages (from trio~=0.17->selenium) (1.2.0)\n",
      "Requirement already satisfied: cffi>=1.14 in c:\\programdata\\anaconda3\\lib\\site-packages (from trio~=0.17->selenium) (1.15.1)\n",
      "Requirement already satisfied: idna in c:\\programdata\\anaconda3\\lib\\site-packages (from trio~=0.17->selenium) (3.3)\n",
      "Requirement already satisfied: exceptiongroup>=1.0.0rc9 in c:\\users\\edsel di meo\\appdata\\roaming\\python\\python39\\site-packages (from trio~=0.17->selenium) (1.1.1)\n",
      "Requirement already satisfied: attrs>=19.2.0 in c:\\programdata\\anaconda3\\lib\\site-packages (from trio~=0.17->selenium) (21.4.0)\n",
      "Requirement already satisfied: async-generator>=1.9 in c:\\users\\edsel di meo\\appdata\\roaming\\python\\python39\\site-packages (from trio~=0.17->selenium) (1.10)\n",
      "Requirement already satisfied: outcome in c:\\users\\edsel di meo\\appdata\\roaming\\python\\python39\\site-packages (from trio~=0.17->selenium) (1.2.0)\n",
      "Requirement already satisfied: sortedcontainers in c:\\programdata\\anaconda3\\lib\\site-packages (from trio~=0.17->selenium) (2.4.0)\n",
      "Requirement already satisfied: wsproto>=0.14 in c:\\users\\edsel di meo\\appdata\\roaming\\python\\python39\\site-packages (from trio-websocket~=0.9->selenium) (1.2.0)\n",
      "Requirement already satisfied: PySocks!=1.5.7,<2.0,>=1.5.6 in c:\\programdata\\anaconda3\\lib\\site-packages (from urllib3[socks]~=1.26->selenium) (1.7.1)\n",
      "Requirement already satisfied: charset-normalizer<3,>=2 in c:\\programdata\\anaconda3\\lib\\site-packages (from requests->undetected-chromedriver) (2.0.4)\n",
      "Requirement already satisfied: pycparser in c:\\programdata\\anaconda3\\lib\\site-packages (from cffi>=1.14->trio~=0.17->selenium) (2.21)\n",
      "Requirement already satisfied: h11<1,>=0.9.0 in c:\\users\\edsel di meo\\appdata\\roaming\\python\\python39\\site-packages (from wsproto>=0.14->trio-websocket~=0.9->selenium) (0.14.0)\n"
     ]
    }
   ],
   "source": [
    "!pip install selenium undetected-chromedriver"
   ]
  },
  {
   "attachments": {},
   "cell_type": "markdown",
   "metadata": {},
   "source": [
    "# USD Exchange rates and Games id retrieval"
   ]
  },
  {
   "attachments": {},
   "cell_type": "markdown",
   "metadata": {},
   "source": [
    "## Extraction"
   ]
  },
  {
   "attachments": {},
   "cell_type": "markdown",
   "metadata": {},
   "source": [
    "Note: wait time is added to avoid proceeding with the steps before the webpage hasn't even loaded and to avoid DDoS-like behaviour."
   ]
  },
  {
   "cell_type": "code",
   "execution_count": 9,
   "metadata": {},
   "outputs": [],
   "source": [
    "def extract_list_videogames(browser, list_number=1):\n",
    "\n",
    "    \"\"\"extracts games' ids from a website with a games id ordered list\n",
    "        Parameters:\n",
    "        browser: driver selenium object\n",
    "        \n",
    "        Returns:\n",
    "        A soup object that belongs to the beautifulsoup4 library \"\"\"\n",
    "\n",
    "    try:\n",
    "        browser.get('https://steamdb.info/charts/')\n",
    "        time.sleep(10)\n",
    "        html = browser.page_source\n",
    "        soup = bs4.BeautifulSoup(html, \"html.parser\")\n",
    "    except Exception as e:\n",
    "        browser.quit()\n",
    "        logger.debug(\"Hubo un problema\",e)\n",
    "    else:\n",
    "        browser.quit()\n",
    "        return soup\n"
   ]
  },
  {
   "cell_type": "code",
   "execution_count": 10,
   "metadata": {},
   "outputs": [],
   "source": [
    "def get_game_prices(game_url,browser,keep_browser):\n",
    "\n",
    "    \"\"\"extracts a game's cost per country\n",
    "        Parameters:\n",
    "        game_url: a string with a game's url from steamdb site\n",
    "        browser: driver selenium object\n",
    "        keep_browser: boolean (this opens the game_url on a different tab in case many games' urls are being opened on browser)\n",
    "        \n",
    "        Returns:\n",
    "        A soup object that belongs to the beautifulsoup4 library\"\"\"\n",
    "\n",
    "    if keep_browser:\n",
    "        browser.execute_script(f\"window.open('https://steamdb.info{game_url}', '_blank');\")\n",
    "        browser.switch_to.window(browser.window_handles[-1])\n",
    "    else:\n",
    "        browser.get('https://steamdb.info'+game_url)\n",
    "    time.sleep(30+np.random.random()*60)\n",
    "    us_cookie = {\n",
    "        \"name\":\"__Host-cc\",\n",
    "        \"value\":\"us\"\n",
    "    }\n",
    "    browser.add_cookie(us_cookie)\n",
    "    browser.refresh()\n",
    "    button = browser.find_element(By.ID,'js-currency-selector')\n",
    "    button.click()\n",
    "    time.sleep(5)\n",
    "    button = browser.find_element(By.CSS_SELECTOR,'button[data-cc=\"us\"]')\n",
    "    button.click()\n",
    "    time.sleep(5)\n",
    "    html = browser.page_source\n",
    "    soup = bs4.BeautifulSoup(html, \"html.parser\")\n",
    "    return soup"
   ]
  },
  {
   "attachments": {},
   "cell_type": "markdown",
   "metadata": {},
   "source": [
    "## Transform"
   ]
  },
  {
   "cell_type": "code",
   "execution_count": 11,
   "metadata": {},
   "outputs": [],
   "source": [
    "def process_country_prices(soup):\n",
    "\n",
    "    \"\"\"extracts the raw value and country tags and processes them into clean values\n",
    "    \n",
    "        Parameters:\n",
    "        soup: soup object that belongs to the beautifulsoup4 library\n",
    "        \n",
    "        Returns:\n",
    "        A list with the country name in iso code, currency name, game's price in local currency and game's price in USD\"\"\"\n",
    "\n",
    "    country_tags_raw = soup.find(\"div\",class_=\"table-responsive\").find_all(\"td\",attrs={\"data-cc\":True})\n",
    "    countries_row_data_raw = soup.find(\"div\",class_=\"table-responsive\").find_all(\"tr\")\n",
    "    price_tags_raw = soup.find(\"div\",class_=\"table-responsive\").find_all(\"td\",class_=\"table-prices-converted\")\n",
    "    usd_prices_processed = []\n",
    "    countries_local_price_processed = []\n",
    "    for tag in price_tags_raw:\n",
    "        if \"%\" not in tag.text:\n",
    "            if tag.text == \"N/A\":\n",
    "                usd_prices_processed.append(np.nan)\n",
    "            else:\n",
    "                usd_prices_processed.append(float(re.findall(r\"[0-9]+\\.?[0-9]*\",tag.text)[0]))\n",
    "\n",
    "    for tag in countries_row_data_raw:\n",
    "        if tag.find_all(\"td\"):\n",
    "            price_match = re.findall(r\"[0-9]+[,\\.]?[0-9]*\",tag.find_all(\"td\")[1].text)\n",
    "            if price_match:\n",
    "                countries_local_price_processed.append(float(price_match[0].replace(\",\",\".\")))\n",
    "            else:\n",
    "                countries_local_price_processed.append(np.nan)\n",
    "\n",
    "    iso_country_code_processed = [tag[\"data-cc\"].strip(\"\\n\").strip(\" \") for tag in country_tags_raw]\n",
    "    countries_name_processed = [tag.text.strip(\"\\n\").strip(\" \") for tag in country_tags_raw]\n",
    "    countries_prices_processed = list(zip(iso_country_code_processed, countries_name_processed, countries_local_price_processed, usd_prices_processed))\n",
    "    return countries_prices_processed"
   ]
  },
  {
   "attachments": {},
   "cell_type": "markdown",
   "metadata": {},
   "source": [
    "Let's obtain the games list for reference"
   ]
  },
  {
   "cell_type": "code",
   "execution_count": 12,
   "metadata": {},
   "outputs": [],
   "source": [
    "options = ChromeOptions()\n",
    "options.add_argument(\"--disable-popup-blocking\") # disables popup blocking for being able to open a new tab\n",
    "browser = Chrome(options=options)\n",
    "videogame_list_soup = extract_list_videogames(browser)\n",
    "videogame_urls_tags = videogame_list_soup.find_all(\"a\", href=lambda href: href and href.startswith(\"/app/\"))\n",
    "videogame_urls_processed = list(set([tag[\"href\"].strip(\" \").rstrip(\"/charts\").lstrip(\"/app/\") for tag in videogame_urls_tags])) # removes /charts/app and whitespaces from urls"
   ]
  },
  {
   "attachments": {},
   "cell_type": "markdown",
   "metadata": {},
   "source": [
    "Now, we use the game ``/app/221100`` (DayZ) to obtain the difference prices for all currencies"
   ]
  },
  {
   "cell_type": "code",
   "execution_count": 13,
   "metadata": {},
   "outputs": [],
   "source": [
    "games_dict = {}\n",
    "options = ChromeOptions()\n",
    "options.add_argument(\"--disable-popup-blocking\") # disables popup blocking for being able to open a new tab\n",
    "browser = Chrome(use_subprocess=True,options=options) # use_subprocess is necessary for bypassing anti-scrapping measurements\n",
    "for i,url in enumerate([\"/app/221100\"]): \n",
    "    try:\n",
    "        if i == 0:\n",
    "            videogame_website_soup = get_game_prices(url,browser,keep_browser=False) # don't open a new tab for first game\n",
    "        else:\n",
    "            videogame_website_soup = get_game_prices(url,browser,keep_browser=True) # open a new tab for subsequent games not to be asked for cloudfare human validation\n",
    "    except NoSuchElementException as e: # if there's a free videogame, this error will propagate which causes the script to close the browser and open another\n",
    "        logging.debug(e)\n",
    "        logging.debug(\"restarting webbrowser...\")\n",
    "        \n",
    "        browser.quit()\n",
    "        options = ChromeOptions()\n",
    "        options.add_argument(\"--disable-popup-blocking\")\n",
    "        browser = Chrome(use_subprocess=True,options=options)\n",
    "    if videogame_website_soup is not None: # if the videogame is not free (there's an available price), then add it to the dict \n",
    "        price_data = process_country_prices(videogame_website_soup)\n",
    "browser.close()\n",
    "        "
   ]
  },
  {
   "attachments": {},
   "cell_type": "markdown",
   "metadata": {},
   "source": [
    "## Save the data (checkpoint)"
   ]
  },
  {
   "cell_type": "code",
   "execution_count": 14,
   "metadata": {},
   "outputs": [],
   "source": [
    "# save the data to prevent having to look for it again\n",
    "with open(\"../Data/usd_rates_reference.txt\",\"w\") as f:\n",
    "    json.dump(price_data,f)\n",
    "    \n",
    "with open(\"../Data/videogames_id_reference.txt\",\"w\") as f:\n",
    "    json.dump(videogame_urls_processed,f)"
   ]
  },
  {
   "attachments": {},
   "cell_type": "markdown",
   "metadata": {},
   "source": [
    "## Load the data (checkpoint)"
   ]
  },
  {
   "attachments": {},
   "cell_type": "markdown",
   "metadata": {},
   "source": [
    "We can use the saved data to prevent sending requests to the Internet every time we want to process the same games"
   ]
  },
  {
   "cell_type": "code",
   "execution_count": 4,
   "metadata": {},
   "outputs": [
    {
     "data": {
      "text/plain": [
       "([['us', 'U.S. Dollar', 44.99, 44.99],\n",
       "  ['ar', 'Argentine Peso', 2499.99, 11.71],\n",
       "  ['tr', 'Turkish Lira', 259.99, 13.42],\n",
       "  ['ru', 'Russian Ruble', 1199.0, 14.7],\n",
       "  ['br', 'Brazilian Real', 119.99, 24.43],\n",
       "  ['ua', 'Ukrainian Hryvnia', 999.0, 27.02],\n",
       "  ['no', 'Norwegian Krone', 299.0, 28.78],\n",
       "  ['cn', 'Chinese Yuan', 199.0, 28.96],\n",
       "  ['co', 'Colombian Peso', 129900.0, 29.57],\n",
       "  ['za', 'South African Rand', 599.0, 33.09],\n",
       "  ['kz', 'Kazakhstani Tenge', 14999.0, 33.21],\n",
       "  ['mx', 'Mexican Peso', 599.0, 33.25],\n",
       "  ['in', 'Indian Rupee', 2799.0, 34.19],\n",
       "  ['uy', 'Uruguayan Peso', 1349.0, 34.79],\n",
       "  ['cl', 'Chilean Peso', 28000.0, 35.11],\n",
       "  ['ph', 'Philippine Peso', 1999.0, 36.12],\n",
       "  ['my', 'Malaysian Ringgit', 159.99, 36.34],\n",
       "  ['pe', 'Peruvian Sol', 139.95, 37.09],\n",
       "  ['id', 'Indonesian Rupiah', 550000.0, 37.2],\n",
       "  ['nz', 'New Zealand Dollar', 59.99, 37.27],\n",
       "  ['sg', 'Singapore Dollar', 49.99, 37.58],\n",
       "  ['hk', 'Hong Kong Dollar', 299.99, 38.21],\n",
       "  ['kr', 'South Korean Won', 49900.0, 38.25],\n",
       "  ['th', 'Thai Baht', 1299.0, 38.31],\n",
       "  ['pl', 'Polish Zloty', 161.99, 38.37],\n",
       "  ['jp', 'Japanese Yen', 5200.0, 38.85],\n",
       "  ['au', 'Australian Dollar', 59.99, 40.22],\n",
       "  ['uk', 'British Pound', 33.99, 42.22],\n",
       "  ['sa', 'Saudi Riyal', 159.0, 42.38],\n",
       "  ['tw', 'Taiwan Dollar', 1299.0, 42.56],\n",
       "  ['vn', 'Vietnamese Dong', 1000000.0, 42.64],\n",
       "  ['ae', 'U.A.E. Dirham', 159.0, 43.29],\n",
       "  ['ca', 'Canadian Dollar', 59.99, 44.37],\n",
       "  ['eu', 'Euro', 39.99, 44.4],\n",
       "  ['ch', 'Swiss Franc', 39.99, 44.78],\n",
       "  ['az', 'CIS - U.S. Dollar', 44.99, 44.99],\n",
       "  ['pk', 'South Asia - USD', 44.99, 44.99],\n",
       "  ['qa', 'Qatari Riyal', 164.95, 45.3],\n",
       "  ['kw', 'Kuwaiti Dinar', 14.0, 45.73],\n",
       "  ['il', 'Israeli New Shekel', 169.95, 46.28],\n",
       "  ['cr', 'Costa Rican Colon', 26000.0, 48.44]],\n",
       " ['8930',\n",
       "  '570',\n",
       "  '311210',\n",
       "  '1904540',\n",
       "  '322170',\n",
       "  '438100',\n",
       "  '291550',\n",
       "  '1142710',\n",
       "  '381210',\n",
       "  '629520',\n",
       "  '289070',\n",
       "  '739630',\n",
       "  '440900',\n",
       "  '394360',\n",
       "  '346110',\n",
       "  '238960',\n",
       "  '244210',\n",
       "  '1172620',\n",
       "  '2167580',\n",
       "  '218',\n",
       "  '444090',\n",
       "  '221100',\n",
       "  '255710',\n",
       "  '1794680',\n",
       "  '578080',\n",
       "  '1506830',\n",
       "  '294100',\n",
       "  '899770',\n",
       "  '457140',\n",
       "  '1811260',\n",
       "  '236850',\n",
       "  '1174180',\n",
       "  '990080',\n",
       "  '550',\n",
       "  '582660',\n",
       "  '4000',\n",
       "  '548430',\n",
       "  '236390',\n",
       "  '1248130',\n",
       "  '431960',\n",
       "  '1551360',\n",
       "  '1158310',\n",
       "  '377160',\n",
       "  '1449850',\n",
       "  '250900',\n",
       "  '218620',\n",
       "  '892970',\n",
       "  '1091500',\n",
       "  '582010',\n",
       "  '1938090',\n",
       "  '1446780',\n",
       "  '261550',\n",
       "  '252950',\n",
       "  '105600',\n",
       "  '1326470',\n",
       "  '108600',\n",
       "  '480',\n",
       "  '1222670',\n",
       "  '1677740',\n",
       "  '275850',\n",
       "  '281990',\n",
       "  '39210',\n",
       "  '526870',\n",
       "  '1782210',\n",
       "  '1063730',\n",
       "  '386180',\n",
       "  '251570',\n",
       "  '306130',\n",
       "  '960090',\n",
       "  '284160',\n",
       "  '2050650',\n",
       "  '489830',\n",
       "  '107410',\n",
       "  '761890',\n",
       "  '304930',\n",
       "  '1599340',\n",
       "  '632360',\n",
       "  '646570',\n",
       "  '1245620',\n",
       "  '1454400',\n",
       "  '1623660',\n",
       "  '230410',\n",
       "  '271590',\n",
       "  '1203220',\n",
       "  '1172470',\n",
       "  '252490',\n",
       "  '813780',\n",
       "  '1281930',\n",
       "  '322330',\n",
       "  '1085660',\n",
       "  '594650',\n",
       "  '1527950',\n",
       "  '427520',\n",
       "  '227300',\n",
       "  '359550',\n",
       "  '386360',\n",
       "  '753',\n",
       "  '413150',\n",
       "  '730',\n",
       "  '1919590',\n",
       "  '440'])"
      ]
     },
     "execution_count": 4,
     "metadata": {},
     "output_type": "execute_result"
    }
   ],
   "source": [
    "price_data = None\n",
    "videogame_urls_processed = None\n",
    "with open(\"../Data/usd_rates_reference.txt\",\"r\") as f:\n",
    "    price_data = json.load(f)\n",
    "\n",
    "with open(\"../Data/videogames_id_reference.txt\",\"r\") as f:\n",
    "    videogame_urls_processed = json.load(f)\n",
    "    \n",
    "price_data, videogame_urls_processed"
   ]
  },
  {
   "attachments": {},
   "cell_type": "markdown",
   "metadata": {},
   "source": [
    "Let's obtain the usd exchange rate steam uses for each currency to estimate prices"
   ]
  },
  {
   "cell_type": "code",
   "execution_count": 5,
   "metadata": {},
   "outputs": [],
   "source": [
    "# get the usd exchange rates for each currency\n",
    "usd_rates = {}\n",
    "for country_data in price_data:\n",
    "    country_iso_code = country_data[0] \n",
    "    local_price = country_data[-2]\n",
    "    usd_price = country_data[-1]\n",
    "    usd_ex_rate = local_price/usd_price\n",
    "    usd_rates[country_iso_code] = round(usd_ex_rate,2)"
   ]
  },
  {
   "attachments": {},
   "cell_type": "markdown",
   "metadata": {},
   "source": [
    "# Game data retrieval"
   ]
  },
  {
   "attachments": {},
   "cell_type": "markdown",
   "metadata": {},
   "source": [
    "Now that we've got the games' ids and the usd exchange rate for all currencies, we can proceed to retrieve the prices for all games in USD"
   ]
  },
  {
   "attachments": {},
   "cell_type": "markdown",
   "metadata": {},
   "source": [
    "## Checkpoint Load"
   ]
  },
  {
   "attachments": {},
   "cell_type": "markdown",
   "metadata": {},
   "source": [
    "In case we interrupt the game's data extraction process, we can pick it up where we left off using this"
   ]
  },
  {
   "cell_type": "code",
   "execution_count": 32,
   "metadata": {},
   "outputs": [],
   "source": [
    "checkpoint_data = {}\n",
    "try:\n",
    "    with open(\"../Data/game_processing_checkpoint_data.txt\",\"r\") as f:\n",
    "        checkpoint_data = json.load(f)\n",
    "except FileNotFoundError:\n",
    "    logger.debug(\"checkpoint file hasn't been created...\")\n",
    "\n",
    "checkpoint_game_id = checkpoint_data.get(\"game_id\") or 0\n",
    "checkpoint_index = checkpoint_data.get(\"index\") or 0"
   ]
  },
  {
   "attachments": {},
   "cell_type": "markdown",
   "metadata": {},
   "source": [
    "Now, let's define the functions that will help us retrieve the game's data"
   ]
  },
  {
   "cell_type": "code",
   "execution_count": 30,
   "metadata": {},
   "outputs": [],
   "source": [
    "def send_request(params):\n",
    "\n",
    "    \"\"\" sends a request to steam store API with some params and sends back the retrieved data \n",
    "        Parameters:\n",
    "        params => dict-like object\n",
    "        Returns: dict-like object containing game's data\"\"\"\n",
    "\n",
    "    req = requests.get(\"https://store.steampowered.com/api/appdetails/\", params=params)\n",
    "    try:\n",
    "        json_data = json.loads(req.text)\n",
    "        if json_data[params[\"appids\"]][\"success\"]: # if the game has regional restrictions, this won't meet\n",
    "            return json_data[params[\"appids\"]][\"data\"]\n",
    "    except Exception as e: # in case the get request fails\n",
    "        logger.debug(f\"request to {params.get('appids')} failed... {e}\")\n",
    "    return {} #send_request(params)\n",
    "        "
   ]
  },
  {
   "cell_type": "code",
   "execution_count": 31,
   "metadata": {},
   "outputs": [],
   "source": [
    "def get_country_prices(params):\n",
    "\n",
    "    \"\"\" processes the data from the steam store API to obtain a game's price per country\n",
    "        Parameters:\n",
    "        params => dict-like object\n",
    "        Returns:\n",
    "        A tuple containing the currency's name as first item, and the game's usd price for that country in the second position\"\"\"\n",
    "\n",
    "    json_data = send_request(params=params)\n",
    "    try:\n",
    "        if json_data:\n",
    "            price_formatted = re.findall(r\"[0-9]+[,\\. ]?[0-9]*\",json_data.get(\"price_overview\").get(\"final_formatted\"))\n",
    "            if price_formatted:\n",
    "                usd_price = float(price_formatted[0].replace(\" \",\"\").replace(\".\",\"\").replace(\",\",\".\")) / usd_rates[params[\"cc\"]] # if the country uses . for thousands this is ok\n",
    "                if usd_price > 100 or usd_price < 0.1:\n",
    "                    usd_price = float(price_formatted[0].replace(\" \",\"\").replace(\",\",\"\")) / usd_rates[params[\"cc\"]] # use this for countries that use . for floating point numbers\n",
    "                return (params[\"cc\"],usd_price)\n",
    "    except Exception as e:\n",
    "        logger.debug(f\"execution for {params['cc']} and {params['appids']} failed. Sending NaN...\")\n",
    "    return (params[\"cc\"],np.nan) # if the price couldn't be parsed, then send NaN"
   ]
  },
  {
   "cell_type": "code",
   "execution_count": 34,
   "metadata": {},
   "outputs": [],
   "source": [
    "game_data = {}\n",
    "start = 0\n",
    "end = len(usd_rates.keys()) - 1\n",
    "batch = 10\n",
    "country_iso_codes = list(usd_rates.keys())\n",
    "wait_time = 10\n",
    "videogame_urls_processed = sorted([int(game_id) for game_id in videogame_urls_processed]) # for reproducibility purposes when loading the checkpoint\n",
    "for game_id in videogame_urls_processed:\n",
    "    if int(game_id) < int(checkpoint_game_id):\n",
    "        continue # if game_id has already been processed, then ignore\n",
    "    params = {\n",
    "                    \"appids\":f\"{game_id}\",\n",
    "                    \"cc\":\"us\"\n",
    "            }\n",
    "    json_data = send_request(params)\n",
    "    if not json_data.get(\"is_free\"):\n",
    "        game_data[game_id] = list()\n",
    "        with concurrent.futures.ThreadPoolExecutor() as executor:\n",
    "            futures = []\n",
    "            for i in range(start, end, batch):\n",
    "                if i < checkpoint_index and int(game_id) == int(checkpoint_game_id):\n",
    "                    continue\n",
    "\n",
    "                for j in range(batch):\n",
    "\n",
    "                    params = {\n",
    "                        \"appids\":f\"{game_id}\",\n",
    "                        \"cc\":country_iso_codes[i+j]\n",
    "                    }\n",
    "                    logger.debug(f\"Country {country_iso_codes[i+j]} for game {game_id} and batch {i} started processing...\")\n",
    "                    futures.append(executor.submit(get_country_prices,params=params))\n",
    "                \n",
    "                for future in concurrent.futures.as_completed(futures):\n",
    "                    game_data[game_id].append(future.result())\n",
    "\n",
    "                    # add checkpoint save\n",
    "                    with open(\"../Data/game_processing_game_data.txt\",\"w\") as f:\n",
    "                        json.dump(game_data,f)\n",
    "\n",
    "                    with open(\"../Data/game_processing_checkpoint_data.txt\",\"w\") as f:\n",
    "                        json.dump({\n",
    "                            \"index\":i,\n",
    "                            \"game_id\":game_id\n",
    "                        },f)\n",
    "\n",
    "                time.sleep(wait_time)\n",
    "        logger.debug(f\"game {game_id} has been processed...\")\n",
    "        game_data[game_id] = dict(game_data[game_id])"
   ]
  },
  {
   "attachments": {},
   "cell_type": "markdown",
   "metadata": {},
   "source": [
    "# Load"
   ]
  },
  {
   "cell_type": "code",
   "execution_count": 47,
   "metadata": {},
   "outputs": [],
   "source": [
    "steam_prices_df = pd.read_json(json.dumps(game_data)).T\n",
    "steam_prices_df.to_excel(\"../Data/list_1_processed.xlsx\")"
   ]
  }
 ],
 "metadata": {
  "kernelspec": {
   "display_name": "base",
   "language": "python",
   "name": "python3"
  },
  "language_info": {
   "codemirror_mode": {
    "name": "ipython",
    "version": 3
   },
   "file_extension": ".py",
   "mimetype": "text/x-python",
   "name": "python",
   "nbconvert_exporter": "python",
   "pygments_lexer": "ipython3",
   "version": "3.9.13"
  },
  "orig_nbformat": 4
 },
 "nbformat": 4,
 "nbformat_minor": 2
}
