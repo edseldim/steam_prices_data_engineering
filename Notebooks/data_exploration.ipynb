{
 "cells": [
  {
   "cell_type": "code",
   "execution_count": 100,
   "metadata": {},
   "outputs": [],
   "source": [
    "import pandas as pd\n",
    "import numpy as np\n",
    "import matplotlib.pyplot as plt\n",
    "import bs4\n",
    "import re\n",
    "import time\n",
    "import logging\n",
    "import json\n",
    "\n",
    "from undetected_chromedriver import Chrome, ChromeOptions\n",
    "from selenium.common.exceptions import NoSuchElementException\n",
    "from selenium.webdriver.common.by import By"
   ]
  },
  {
   "attachments": {},
   "cell_type": "markdown",
   "metadata": {},
   "source": [
    "# Preconfig"
   ]
  },
  {
   "cell_type": "code",
   "execution_count": 3,
   "metadata": {},
   "outputs": [],
   "source": [
    "logger = logging.getLogger(\"etl_logger\")\n",
    "logger.setLevel(logging.DEBUG)\n",
    "logger.propagate = False"
   ]
  },
  {
   "attachments": {},
   "cell_type": "markdown",
   "metadata": {},
   "source": [
    "# Installing Packages"
   ]
  },
  {
   "cell_type": "code",
   "execution_count": 4,
   "metadata": {},
   "outputs": [
    {
     "name": "stdout",
     "output_type": "stream",
     "text": [
      "Defaulting to user installation because normal site-packages is not writeable\n",
      "Requirement already satisfied: selenium in c:\\users\\edsel di meo\\appdata\\roaming\\python\\python39\\site-packages (4.8.3)\n",
      "Requirement already satisfied: trio-websocket~=0.9 in c:\\users\\edsel di meo\\appdata\\roaming\\python\\python39\\site-packages (from selenium) (0.10.2)\n",
      "Requirement already satisfied: urllib3[socks]~=1.26 in c:\\programdata\\anaconda3\\lib\\site-packages (from selenium) (1.26.11)\n",
      "Requirement already satisfied: trio~=0.17 in c:\\users\\edsel di meo\\appdata\\roaming\\python\\python39\\site-packages (from selenium) (0.22.0)\n",
      "Requirement already satisfied: certifi>=2021.10.8 in c:\\programdata\\anaconda3\\lib\\site-packages (from selenium) (2022.9.14)\n",
      "Requirement already satisfied: async-generator>=1.9 in c:\\users\\edsel di meo\\appdata\\roaming\\python\\python39\\site-packages (from trio~=0.17->selenium) (1.10)\n",
      "Requirement already satisfied: exceptiongroup>=1.0.0rc9 in c:\\users\\edsel di meo\\appdata\\roaming\\python\\python39\\site-packages (from trio~=0.17->selenium) (1.1.1)\n",
      "Requirement already satisfied: sortedcontainers in c:\\programdata\\anaconda3\\lib\\site-packages (from trio~=0.17->selenium) (2.4.0)\n",
      "Requirement already satisfied: idna in c:\\programdata\\anaconda3\\lib\\site-packages (from trio~=0.17->selenium) (3.3)\n",
      "Requirement already satisfied: sniffio in c:\\programdata\\anaconda3\\lib\\site-packages (from trio~=0.17->selenium) (1.2.0)\n",
      "Requirement already satisfied: cffi>=1.14 in c:\\programdata\\anaconda3\\lib\\site-packages (from trio~=0.17->selenium) (1.15.1)\n",
      "Requirement already satisfied: attrs>=19.2.0 in c:\\programdata\\anaconda3\\lib\\site-packages (from trio~=0.17->selenium) (21.4.0)\n",
      "Requirement already satisfied: outcome in c:\\users\\edsel di meo\\appdata\\roaming\\python\\python39\\site-packages (from trio~=0.17->selenium) (1.2.0)\n",
      "Requirement already satisfied: wsproto>=0.14 in c:\\users\\edsel di meo\\appdata\\roaming\\python\\python39\\site-packages (from trio-websocket~=0.9->selenium) (1.2.0)\n",
      "Requirement already satisfied: PySocks!=1.5.7,<2.0,>=1.5.6 in c:\\programdata\\anaconda3\\lib\\site-packages (from urllib3[socks]~=1.26->selenium) (1.7.1)\n",
      "Requirement already satisfied: pycparser in c:\\programdata\\anaconda3\\lib\\site-packages (from cffi>=1.14->trio~=0.17->selenium) (2.21)\n",
      "Requirement already satisfied: h11<1,>=0.9.0 in c:\\users\\edsel di meo\\appdata\\roaming\\python\\python39\\site-packages (from wsproto>=0.14->trio-websocket~=0.9->selenium) (0.14.0)\n"
     ]
    }
   ],
   "source": [
    "!pip install selenium undetected-chromedriver"
   ]
  },
  {
   "attachments": {},
   "cell_type": "markdown",
   "metadata": {},
   "source": [
    "# Extraction"
   ]
  },
  {
   "cell_type": "code",
   "execution_count": 6,
   "metadata": {},
   "outputs": [],
   "source": [
    "def extract_list_videogames(browser, list_number=1):\n",
    "\n",
    "    \"\"\"extracts games from an ordered list\"\"\"\n",
    "\n",
    "    try:\n",
    "        browser.get('https://steamdb.info/charts/')\n",
    "        time.sleep(10)\n",
    "        html = browser.page_source\n",
    "        soup = bs4.BeautifulSoup(html, \"html.parser\")\n",
    "    except Exception as e:\n",
    "        browser.quit()\n",
    "        logger.debug(\"Hubo un problema\",e)\n",
    "    else:\n",
    "        browser.quit()\n",
    "        return soup\n"
   ]
  },
  {
   "cell_type": "code",
   "execution_count": 23,
   "metadata": {},
   "outputs": [],
   "source": [
    "def get_game_prices(game_url,browser,keep_browser):\n",
    "\n",
    "    \"\"\"extracts a game's cost per country\"\"\"\n",
    "\n",
    "    if keep_browser:\n",
    "        browser.execute_script(f\"window.open('https://steamdb.info{game_url}', '_blank');\")\n",
    "        browser.switch_to.window(browser.window_handles[-1])\n",
    "    else:\n",
    "        browser.get('https://steamdb.info'+game_url)\n",
    "    time.sleep(30+np.random.random()*60)\n",
    "    us_cookie = {\n",
    "        \"name\":\"__Host-cc\",\n",
    "        \"value\":\"us\"\n",
    "    }\n",
    "    browser.add_cookie(us_cookie)\n",
    "    browser.refresh()\n",
    "    button = browser.find_element(By.ID,'js-currency-selector')\n",
    "    button.click()\n",
    "    time.sleep(5)\n",
    "    button = browser.find_element(By.CSS_SELECTOR,'button[data-cc=\"us\"]')\n",
    "    button.click()\n",
    "    time.sleep(5)\n",
    "    html = browser.page_source\n",
    "    soup = bs4.BeautifulSoup(html, \"html.parser\")\n",
    "    return soup"
   ]
  },
  {
   "attachments": {},
   "cell_type": "markdown",
   "metadata": {},
   "source": [
    "# Transform"
   ]
  },
  {
   "cell_type": "code",
   "execution_count": 8,
   "metadata": {},
   "outputs": [],
   "source": [
    "def process_country_prices(soup):\n",
    "\n",
    "    \"\"\"extracts the raw value and country tags and processes them into clean values\"\"\"\n",
    "\n",
    "    country_tags_raw = soup.find(\"div\",class_=\"table-responsive\").find_all(\"td\",attrs={\"data-cc\":True})\n",
    "    price_tags_raw = soup.find(\"div\",class_=\"table-responsive\").find_all(\"td\",class_=\"table-prices-converted\")\n",
    "    prices_processed = []\n",
    "    for tag in price_tags_raw:\n",
    "        if \"%\" not in tag.text:\n",
    "            if tag.text == \"N/A\":\n",
    "                prices_processed.append(np.nan)\n",
    "            else:\n",
    "                prices_processed.append(re.findall(r\"[0-9]+,?[0-9]*\",tag.text)[0])\n",
    "\n",
    "    countries_processed = [tag.text.strip(\"\\n\").strip(\" \") for tag in country_tags_raw]\n",
    "    countries_prices_processed = list(zip(countries_processed, prices_processed))\n",
    "    return countries_prices_processed"
   ]
  },
  {
   "cell_type": "code",
   "execution_count": 9,
   "metadata": {},
   "outputs": [
    {
     "name": "stderr",
     "output_type": "stream",
     "text": [
      "C:\\Users\\Edsel Di Meo\\AppData\\Local\\Temp\\ipykernel_19724\\4205828164.py:1: DeprecationWarning: firefox_binary has been deprecated, please pass in a Service object\n",
      "  browser = Firefox(firefox_binary=\"C:\\Program Files\\Mozilla Firefox\\\\firefox.exe\")\n"
     ]
    }
   ],
   "source": [
    "options = ChromeOptions()\n",
    "options.add_argument(\"disable-popup-blocking\") # disables popup blocking for being able to open a new tab\n",
    "browser = Chrome(options=options)\n",
    "videogame_list_soup = extract_list_videogames(browser)\n",
    "videogame_urls_tags = videogame_list_soup.find_all(\"a\", href=lambda href: href and href.startswith(\"/app/\"))\n",
    "videogame_urls_processed = list(set([tag[\"href\"].strip(\" \").rstrip(\"/charts/\") for tag in videogame_urls_tags])) # removes /charts/ and whitespaces from urls"
   ]
  },
  {
   "cell_type": "code",
   "execution_count": 26,
   "metadata": {},
   "outputs": [],
   "source": [
    "games_dict = {}\n",
    "options = ChromeOptions()\n",
    "options.add_argument(\"--disable-popup-blocking\") # disables popup blocking for being able to open a new tab\n",
    "browser = Chrome(use_subprocess=True,options=options) # use_subprocess is necessary for bypassing anti-scrapping measurements\n",
    "for i,url in enumerate(videogame_urls_processed): \n",
    "    try:\n",
    "        if i == 0:\n",
    "            videogame_website_soup = get_game_prices(url,browser,keep_browser=False) # don't open a new tab for first game\n",
    "        else:\n",
    "            videogame_website_soup = get_game_prices(url,browser,keep_browser=True) # open a new tab for subsequent games not to be asked for cloudfare human validation\n",
    "    except NoSuchElementException as e: # if there's a free videogame, this error will propagate which causes the script to close the browser and open another\n",
    "        logging.debug(e)\n",
    "        logging.debug(\"restarting webbrowser...\")\n",
    "        \n",
    "        browser.quit()\n",
    "        options = ChromeOptions()\n",
    "        options.add_argument(\"--disable-popup-blocking\")\n",
    "        browser = Chrome(use_subprocess=True,options=options)\n",
    "    if videogame_website_soup is not None: # if the videogame is not free (there's an available price), then add it to the dict \n",
    "        games_dict[f\"{i}\"] = process_country_prices(videogame_website_soup)\n",
    "        "
   ]
  },
  {
   "attachments": {},
   "cell_type": "markdown",
   "metadata": {},
   "source": [
    "# Load"
   ]
  },
  {
   "cell_type": "code",
   "execution_count": 101,
   "metadata": {},
   "outputs": [],
   "source": [
    "country_games_value = dict() \n",
    "for games_value_list in games_dict.values(): # here we rearrange the dict to have the countries as key and each videogame's price in a list as values\n",
    "    for country, value in games_value_list:\n",
    "        if country_games_value.get(country) == None:\n",
    "            country_games_value[f\"{country}\"] = []\n",
    "        country_games_value[f\"{country}\"].append(value)\n",
    "\n",
    "games_id = [\"https://store.steampowered.com\"+url for url in videogame_urls_processed]\n",
    "steam_prices_df = pd.DataFrame(country_games_value, index=games_id)"
   ]
  },
  {
   "cell_type": "code",
   "execution_count": 103,
   "metadata": {},
   "outputs": [],
   "source": [
    "steam_prices_df.to_excel(\"../Data/list_1_processed.xlsx\")\n",
    "with open(\"../Data/list_1_raw.json\",\"w\") as f: # let's save the unprocessed data just in case :)\n",
    "    json.dump(games_dict,f)"
   ]
  }
 ],
 "metadata": {
  "kernelspec": {
   "display_name": "base",
   "language": "python",
   "name": "python3"
  },
  "language_info": {
   "codemirror_mode": {
    "name": "ipython",
    "version": 3
   },
   "file_extension": ".py",
   "mimetype": "text/x-python",
   "name": "python",
   "nbconvert_exporter": "python",
   "pygments_lexer": "ipython3",
   "version": "3.9.13"
  },
  "orig_nbformat": 4
 },
 "nbformat": 4,
 "nbformat_minor": 2
}
