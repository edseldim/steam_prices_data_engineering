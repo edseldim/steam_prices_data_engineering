{
 "cells": [
  {
   "cell_type": "code",
   "execution_count": 3,
   "metadata": {},
   "outputs": [],
   "source": [
    "import requests\n",
    "import bs4\n",
    "import pandas as pd\n",
    "import numpy as np\n",
    "import re\n",
    "import time"
   ]
  },
  {
   "cell_type": "code",
   "execution_count": 4,
   "metadata": {},
   "outputs": [],
   "source": [
    "df_games_prices = pd.read_excel(\"../Data/list_1_processed.xlsx\", index_col=\"Unnamed: 0\")\n",
    "game_tags_list = []\n",
    "for game_url in df_games_prices.index.tolist():\n",
    "    req = requests.get(game_url)\n",
    "    if req.ok:\n",
    "        soup = bs4.BeautifulSoup(req.text,\"html.parser\")\n",
    "        if soup.find(\"div\",class_=\"glance_tags\"):\n",
    "            genre_tags_raw = soup.find(\"div\",class_=\"glance_tags\").text\n",
    "            genre_tags_processed = re.findall(r\"\\w+\",genre_tags_raw)\n",
    "            game_tags_list.append(genre_tags_processed)\n",
    "        else:\n",
    "            game_tags_list.append([])\n",
    "    time.sleep(20)\n",
    "\n",
    "game_tags_list"
   ]
  }
 ],
 "metadata": {
  "kernelspec": {
   "display_name": "base",
   "language": "python",
   "name": "python3"
  },
  "language_info": {
   "codemirror_mode": {
    "name": "ipython",
    "version": 3
   },
   "file_extension": ".py",
   "mimetype": "text/x-python",
   "name": "python",
   "nbconvert_exporter": "python",
   "pygments_lexer": "ipython3",
   "version": "3.9.13"
  },
  "orig_nbformat": 4
 },
 "nbformat": 4,
 "nbformat_minor": 2
}
